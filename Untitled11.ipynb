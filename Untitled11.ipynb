{
 "cells": [
  {
   "cell_type": "markdown",
   "id": "eed4fcf2",
   "metadata": {},
   "source": [
    "args 내가 원하는 구구단 단수만 입력받아서 출력하는 함수 제작 gugudan257"
   ]
  },
  {
   "cell_type": "code",
   "execution_count": 4,
   "id": "fbd0c525",
   "metadata": {},
   "outputs": [
    {
     "ename": "SyntaxError",
     "evalue": "invalid syntax (<ipython-input-4-d5860eecd0da>, line 5)",
     "output_type": "error",
     "traceback": [
      "\u001b[0;36m  File \u001b[0;32m\"<ipython-input-4-d5860eecd0da>\"\u001b[0;36m, line \u001b[0;32m5\u001b[0m\n\u001b[0;31m    print{f'{arg} x {multiple} = {arg*multiple}'}\u001b[0m\n\u001b[0m         ^\u001b[0m\n\u001b[0;31mSyntaxError\u001b[0m\u001b[0;31m:\u001b[0m invalid syntax\n"
     ]
    }
   ],
   "source": [
    "def gugudan(*args **kwargs):\n",
    "    for arg in args:\n",
    "        print(f'{arg}단')\n",
    "        for multiple in range(1,10):\n",
    "            print{f'{arg} x {multiple} = {arg*multiple}'}\n",
    "\n",
    "    for kwargs in kwargs:\n",
    "        point"
   ]
  },
  {
   "cell_type": "code",
   "execution_count": 5,
   "id": "4f9c26ae",
   "metadata": {},
   "outputs": [
    {
     "ename": "NameError",
     "evalue": "name 'gugudan' is not defined",
     "output_type": "error",
     "traceback": [
      "\u001b[0;31m---------------------------------------------------------------------------\u001b[0m",
      "\u001b[0;31mNameError\u001b[0m                                 Traceback (most recent call last)",
      "\u001b[0;32m<ipython-input-5-afa3de0aa145>\u001b[0m in \u001b[0;36m<module>\u001b[0;34m\u001b[0m\n\u001b[0;32m----> 1\u001b[0;31m \u001b[0mgugudan\u001b[0m\u001b[0;34m(\u001b[0m\u001b[0;36m2\u001b[0m\u001b[0;34m,\u001b[0m\u001b[0;36m5\u001b[0m\u001b[0;34m,\u001b[0m\u001b[0;36m7\u001b[0m\u001b[0;34m,\u001b[0m\u001b[0;34m)\u001b[0m\u001b[0;34m\u001b[0m\u001b[0;34m\u001b[0m\u001b[0m\n\u001b[0m",
      "\u001b[0;31mNameError\u001b[0m: name 'gugudan' is not defined"
     ]
    }
   ],
   "source": [
    "gugudan(2,5,7,)"
   ]
  },
  {
   "cell_type": "code",
   "execution_count": null,
   "id": "d6e8f39c",
   "metadata": {},
   "outputs": [],
   "source": []
  }
 ],
 "metadata": {
  "kernelspec": {
   "display_name": "Python 3",
   "language": "python",
   "name": "python3"
  },
  "language_info": {
   "codemirror_mode": {
    "name": "ipython",
    "version": 3
   },
   "file_extension": ".py",
   "mimetype": "text/x-python",
   "name": "python",
   "nbconvert_exporter": "python",
   "pygments_lexer": "ipython3",
   "version": "3.8.8"
  }
 },
 "nbformat": 4,
 "nbformat_minor": 5
}
